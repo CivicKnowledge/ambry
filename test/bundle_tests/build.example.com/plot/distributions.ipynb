{
 "cells": [
  {
   "cell_type": "markdown",
   "metadata": {},
   "source": [
    "# Dataset Title\n\nDataset Title\n"
   ]
  },
  {
   "cell_type": "code",
   "execution_count": 16,
   "metadata": {},
   "outputs": [],
   "source": [
    "import numpy as np\n",
    "import pandas as pd\n",
    "from ambry import get_library\n",
    "l = get_library()\n",
    "b = l.bundle('build.example.com-plot-0.0.1')\n",
    "N = 100"
   ]
  },
  {
   "cell_type": "code",
   "execution_count": 20,
   "metadata": {},
   "outputs": [],
   "source": [
    "import math \n",
    "import scipy.stats\n",
    "\n",
    "mu = 0\n",
    "variance = 1\n",
    "sigma = math.sqrt(variance)\n",
    "x = np.linspace(-3, 3, N)\n",
    "\n",
    "colors = ['red', 'blue', 'green', 'yellow', 'black']\n",
    "\n",
    "df = pd.DataFrame()\n",
    "df['index'] = np.linspace(0,N-1, N)\n",
    "df['color'] = df.index % 4\n",
    "df['color_name'] = df.color.apply(lambda v: colors[v])\n",
    "df['side'] = np.random.choice(['left','right'], N)\n",
    "df['gausspdf'] = scipy.stats.norm.pdf(x, mu, sigma)\n",
    "df['gauss'] = np.random.normal(mu, sigma, N)\n",
    "df['rayleigh'] = np.random.rayleigh(3, N)\n",
    "df['raypdf'] = np.histogram(np.random.rayleigh(3, 500000), N)[0]"
   ]
  },
  {
   "cell_type": "code",
   "execution_count": null,
   "metadata": {},
   "outputs": [],
   "source": [
    ""
   ]
  }
 ],
 "metadata": {
  "kernelspec": {
   "display_name": "Python 2",
   "name": "python2",
   "language": "python"
  },
  "ambry": {
   "identity": {
    "vid": "d5Ep2KYUtC001",
    "name": "build.example.com-plot",
    "vname": "build.example.com-plot-0.0.1",
    "dataset": "plot",
    "source": "build.example.com",
    "version": "0.0.1",
    "cache_key": "build.example.com/plot-0.0.1",
    "id": "d5Ep2KYUtC",
    "revision": 1.0
   }
  },
  "language_info": {
   "mimetype": "text/x-python",
   "nbconvert_exporter": "python",
   "name": "python",
   "pygments_lexer": "ipython2",
   "version": "2.7.10",
   "file_extension": ".py",
   "codemirror_mode": {
    "version": 2.0,
    "name": "ipython"
   }
  }
 },
 "nbformat": 4,
 "nbformat_minor": 0
}